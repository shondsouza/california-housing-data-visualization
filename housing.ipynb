{
 "cells": [
  {
   "cell_type": "code",
   "execution_count": null,
   "id": "ce85758d",
   "metadata": {},
   "outputs": [],
   "source": [
    "import pandas as pd\n",
    "import numpy as np\n",
    "import matplotlib.pyplot as plt\n",
    "import seaborn as sns\n",
    "from sklearn.datasets import fetch_california_housing\n",
    "\n",
    "# Load the California Housing dataset\n",
    "housing_data = fetch_california_housing(as_frame=True)\n",
    "data = housing_data.frame\n",
    "\n",
    "# Show first few rows\n",
    "print(data.head())\n",
    "\n",
    "# Fetch numerical columns\n",
    "numerical_features = data.select_dtypes(include=['float64', 'int64']).columns\n",
    "print(f\"Numerical features: {list(numerical_features)}\")\n",
    "\n",
    "# Create histograms for each numerical feature\n",
    "for feature in numerical_features:\n",
    "    plt.figure(figsize=(8, 4))\n",
    "    plt.hist(data[feature], bins=30, color='skyblue', edgecolor='black')\n",
    "    plt.title(f\"Histogram of {feature}\")\n",
    "    plt.xlabel(feature)\n",
    "    plt.ylabel(\"Frequency\")\n",
    "    plt.grid(True)\n",
    "    plt.tight_layout()\n",
    "    plt.show()\n",
    "\n",
    "# Create box plots for each numerical feature and identify outliers\n",
    "for feature in numerical_features:\n",
    "    plt.figure(figsize=(8, 4))\n",
    "    sns.boxplot(x=data[feature], color='orange')\n",
    "    plt.title(f\"Box Plot of {feature}\")\n",
    "    plt.xlabel(feature)\n",
    "    plt.tight_layout()\n",
    "    plt.show()\n",
    "\n",
    "    # Outlier detection using IQR\n",
    "    Q1 = data[feature].quantile(0.25)\n",
    "    Q3 = data[feature].quantile(0.75)\n",
    "    IQR = Q3 - Q1\n",
    "    outliers = data[(data[feature] < (Q1 - 1.5 * IQR)) | (data[feature] > (Q3 + 1.5 * IQR))]\n",
    "\n",
    "    print(f\"\\nOutliers detected in '{feature}': {len(outliers)}\")\n",
    "\n"
   ]
  },
  {
   "cell_type": "code",
   "execution_count": null,
   "id": "7fcd8184",
   "metadata": {},
   "outputs": [],
   "source": []
  }
 ],
 "metadata": {
  "kernelspec": {
   "display_name": "Python 3",
   "language": "python",
   "name": "python3"
  },
  "language_info": {
   "codemirror_mode": {
    "name": "ipython",
    "version": 3
   },
   "file_extension": ".py",
   "mimetype": "text/x-python",
   "name": "python",
   "nbconvert_exporter": "python",
   "pygments_lexer": "ipython3",
   "version": "3.12.6"
  }
 },
 "nbformat": 4,
 "nbformat_minor": 5
}
